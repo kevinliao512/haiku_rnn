{
 "cells": [
  {
   "cell_type": "code",
   "execution_count": 3,
   "metadata": {
    "collapsed": true
   },
   "outputs": [],
   "source": [
    "import pandas as pd\n",
    "from bs4 import BeautifulSoup\n",
    "import urllib2"
   ]
  },
  {
   "cell_type": "code",
   "execution_count": 37,
   "metadata": {
    "collapsed": true
   },
   "outputs": [],
   "source": [
    "URLS = [\"http://www.hsa-haiku.org/hendersonawards/henderson.htm\",\n",
    "        \"http://www.hsa-haiku.org/bradyawards/brady.htm\"]"
   ]
  },
  {
   "cell_type": "code",
   "execution_count": 6,
   "metadata": {
    "collapsed": false
   },
   "outputs": [],
   "source": [
    "soup = BeautifulSoup(page, 'html.parser')"
   ]
  },
  {
   "cell_type": "code",
   "execution_count": 38,
   "metadata": {
    "collapsed": true
   },
   "outputs": [],
   "source": [
    "CSS_PATH = \"table > tr > td > blockquote > p\""
   ]
  },
  {
   "cell_type": "code",
   "execution_count": 39,
   "metadata": {
    "collapsed": false
   },
   "outputs": [],
   "source": [
    "haikus = []\n",
    "for URL in URLS:\n",
    "    page = urllib2.urlopen(URL).read()\n",
    "    soup = BeautifulSoup(page, 'html.parser')\n",
    "    haikus.extend(soup.select(CSS_PATH))"
   ]
  },
  {
   "cell_type": "code",
   "execution_count": 40,
   "metadata": {
    "collapsed": false
   },
   "outputs": [
    {
     "data": {
      "text/plain": [
       "446"
      ]
     },
     "execution_count": 40,
     "metadata": {},
     "output_type": "execute_result"
    }
   ],
   "source": [
    "len(haikus)"
   ]
  },
  {
   "cell_type": "code",
   "execution_count": 44,
   "metadata": {
    "collapsed": false
   },
   "outputs": [
    {
     "name": "stdout",
     "output_type": "stream",
     "text": [
      "0  night crossing \n",
      "          Tijuana border guard\n",
      "           in sunglasses\n",
      "1 small town\n",
      "          the same dream\n",
      "          as last night \n",
      "2 half-empty cup\n",
      "          I decide I’ve had enough\n",
      "          of you \n",
      "3 middle age\n",
      "          in the mirror\n",
      "          the turn toward it\n",
      "4 wedding day\n",
      "          the time he takes\n",
      "          to knot the tie\n",
      "5 stick figures\n",
      "          including one\n",
      "          i recognize\n",
      "6 boy girl party\n",
      "          the slow speed\n",
      "          of the blender\n",
      "\n",
      "7 life and death decisions\n",
      "          the need to feel\n",
      "          the satin lining\n",
      "8 perfect storm the perfume not hers\n",
      "\n",
      "9 phantom pain—\n",
      "          the shape of her\n",
      "          in a stranger\n",
      "\n"
     ]
    }
   ],
   "source": [
    "for i in xrange(10):\n",
    "    print i, haikus[280+i].text"
   ]
  },
  {
   "cell_type": "code",
   "execution_count": 53,
   "metadata": {
    "collapsed": true
   },
   "outputs": [],
   "source": [
    "URL = \"http://www.hsa-haiku.org/museumhaikuliteratureawards/museumhaikuliterature-award.htm\"\n",
    "CSS_PATH = \"p.haiku\"\n",
    "page = urllib2.urlopen(URL).read()\n",
    "soup = BeautifulSoup(page, 'html.parser')\n",
    "temp = soup.select(CSS_PATH)"
   ]
  },
  {
   "cell_type": "code",
   "execution_count": 57,
   "metadata": {
    "collapsed": false
   },
   "outputs": [],
   "source": [
    "len(temp)\n",
    "haikus.extend(temp)"
   ]
  },
  {
   "cell_type": "code",
   "execution_count": 173,
   "metadata": {
    "collapsed": false
   },
   "outputs": [
    {
     "name": "stdout",
     "output_type": "stream",
     "text": [
      "109329\n"
     ]
    }
   ],
   "source": [
    "count = 0\n",
    "for k in haikus + j_haikus + c_haikus:\n",
    "    for c in k.text:\n",
    "        if c.isalpha():\n",
    "            count += 1\n",
    "print count"
   ]
  },
  {
   "cell_type": "code",
   "execution_count": 97,
   "metadata": {
    "collapsed": false
   },
   "outputs": [],
   "source": [
    "URL = \"http://www.hsa-haiku.org/virgilioawards/virgilio.htm\"\n",
    "CSS_PATH = \"div\"\n",
    "page = urllib2.urlopen(URL).read()\n",
    "soup = BeautifulSoup(page, 'html.parser')\n",
    "temp = soup.select(CSS_PATH)"
   ]
  },
  {
   "cell_type": "code",
   "execution_count": 107,
   "metadata": {
    "collapsed": false
   },
   "outputs": [
    {
     "data": {
      "text/plain": [
       "[<p><i>Alex Degus, 18, Grade 12<br>\n",
       "                       School of the Arts<br>\n",
       " </br></br></i><i>Rochester, New York</i> </p>, <p>grandma's wake<br>\n",
       "                       my little cousin<br>\n",
       "                       shakes her etch-a-sketch<br>\n",
       " </br></br></br></p>, <p><i>Guilia Perucchio, 14, Grade 9<br>\n",
       "                       School of the Arts<br>\n",
       "                       Rochester, New York</br></br></i><i><br>\n",
       " </br></i> </p>, <p>memories<br>\n",
       "                       caught in my brush<br>\n",
       "                       long strands</br></br></p>, <p><i>Allen Bartter, Age 15, Grade 10<br>\n",
       "                       School of the Arts<br>\n",
       "                       Rochester, New York</br></br></i>\n",
       " </p>, <p>pre-school<br>\n",
       "                       a triangle block<br>\n",
       "                       stuck in a square hole</br></br></p>, <p><i>Kate Bosek-Sills, Age 15,Grade 10<br>\n",
       "                       School of the Arts<br>\n",
       " </br></br></i><i>Rochester, New York</i> </p>, <p>harvest moon<br>\n",
       "                       the homeless man's cup<br>\n",
       "                       filled with silver</br></br></p>, <p><i>Asha Bishi, Age 14, Grade 9<br>\n",
       "                       School of the Arts<br>\n",
       "                       Rochester, New York</br></br></i>\n",
       " </p>, <p>my father<br>\n",
       "                       in the stubbled wheat field<br>\n",
       "                       scratches his beard</br></br></p>, <p><i>Adrian DiMatteo, Age 14, Grade 9<br>\n",
       "                       School of the Arts <br>\n",
       "                       Rochester, New York</br></br></i>\n",
       " </p>, <p>superstitious<br>\n",
       "                       a fortune cookie<br>\n",
       "                       seals my fate                          </br></br></p>]"
      ]
     },
     "execution_count": 107,
     "metadata": {},
     "output_type": "execute_result"
    }
   ],
   "source": [
    "temp[2].select(\"p\")"
   ]
  },
  {
   "cell_type": "code",
   "execution_count": 189,
   "metadata": {
    "collapsed": false
   },
   "outputs": [
    {
     "name": "stdout",
     "output_type": "stream",
     "text": [
      "2524\n"
     ]
    }
   ],
   "source": [
    "data = []\n",
    "for k in haikus + j_haikus + c_haikus:\n",
    "    k = k.text.lower().strip()\n",
    "    if k is None:\n",
    "        continue\n",
    "    l = \"\\t\".join(l.strip() for l in k.splitlines() if l is not None)\n",
    "    data.append(l)\n",
    "print len(data)\n",
    "data = pd.DataFrame(data, columns=[\"text\"])"
   ]
  },
  {
   "cell_type": "code",
   "execution_count": 118,
   "metadata": {
    "collapsed": false
   },
   "outputs": [],
   "source": [
    "data.to_json(\"haikus.json\")"
   ]
  },
  {
   "cell_type": "code",
   "execution_count": 119,
   "metadata": {
    "collapsed": true
   },
   "outputs": [],
   "source": [
    "data = pd.read_json(\"haikus.json\")"
   ]
  },
  {
   "cell_type": "code",
   "execution_count": 201,
   "metadata": {
    "collapsed": false
   },
   "outputs": [],
   "source": [
    "data.text.apply(lambda x: len(x)).mean()\n",
    "with open(\"haiku.txt\", \"wb+\") as fp:\n",
    "    for k in data.values:\n",
    "        print >> fp, k[0].encode('ascii', 'ignore')"
   ]
  },
  {
   "cell_type": "code",
   "execution_count": 204,
   "metadata": {
    "collapsed": false
   },
   "outputs": [],
   "source": [
    "%matplotlib inline"
   ]
  },
  {
   "cell_type": "code",
   "execution_count": 205,
   "metadata": {
    "collapsed": false
   },
   "outputs": [
    {
     "data": {
      "text/plain": [
       "<matplotlib.axes._subplots.AxesSubplot at 0x7f78e921bed0>"
      ]
     },
     "execution_count": 205,
     "metadata": {},
     "output_type": "execute_result"
    },
    {
     "data": {
      "image/png": "[encoded data removed]",
      "text/plain": [
       "<matplotlib.figure.Figure at 0x7f78e921b990>"
      ]
     },
     "metadata": {},
     "output_type": "display_data"
    }
   ],
   "source": [
    "data.text.apply(lambda x: len(x)).hist()"
   ]
  },
  {
   "cell_type": "code",
   "execution_count": 135,
   "metadata": {
    "collapsed": false
   },
   "outputs": [
    {
     "data": {
      "text/plain": [
       "['http://sacred-texts.com/shi/jh/jh02.htm',\n",
       " 'http://sacred-texts.com/shi/jh/jh03.htm',\n",
       " 'http://sacred-texts.com/shi/jh/jh04.htm',\n",
       " 'http://sacred-texts.com/shi/jh/jh05.htm',\n",
       " 'http://sacred-texts.com/shi/jh/jh06.htm',\n",
       " 'http://sacred-texts.com/shi/jh/jh07.htm']"
      ]
     },
     "execution_count": 135,
     "metadata": {},
     "output_type": "execute_result"
    }
   ],
   "source": [
    "# Source http://sacred-texts.com/shi/jh/index.htm\n",
    "URLS = [\"http://sacred-texts.com/shi/jh/jh0%s.htm\" % k for k in xrange(2,8)]\n",
    "URLS"
   ]
  },
  {
   "cell_type": "code",
   "execution_count": 133,
   "metadata": {
    "collapsed": false
   },
   "outputs": [
    {
     "name": "stdout",
     "output_type": "stream",
     "text": [
      "36\n",
      "76\n",
      "116\n",
      "156\n",
      "196\n",
      "220\n"
     ]
    }
   ],
   "source": [
    "CSS_PATH = \"table > tr:nth-of-type(1) > td:nth-of-type(1) > p\"\n",
    "j_haikus = []\n",
    "for URL in URLS:\n",
    "    page = urllib2.urlopen(URL).read()\n",
    "    soup = BeautifulSoup(page, 'html.parser')\n",
    "    j_haikus.extend(soup.select(CSS_PATH))\n",
    "    print len(j_haikus)"
   ]
  },
  {
   "cell_type": "code",
   "execution_count": 131,
   "metadata": {
    "collapsed": false
   },
   "outputs": [
    {
     "name": "stdout",
     "output_type": "stream",
     "text": [
      "24\n"
     ]
    }
   ],
   "source": [
    "CSS_PATH = \"table > tr:nth-of-type(1) > td:nth-of-type(1) > p\"\n",
    "j_haikus = []\n",
    "page = urllib2.urlopen(URL).read()\n",
    "soup = BeautifulSoup(page, 'html.parser')\n",
    "j_haikus.extend(soup.select(CSS_PATH))\n",
    "print len(j_haikus)"
   ]
  },
  {
   "cell_type": "code",
   "execution_count": 132,
   "metadata": {
    "collapsed": false
   },
   "outputs": [
    {
     "data": {
      "text/plain": [
       "[<p>CONSIDERATE   DOGS ...<br>     STEPPING OFF<br>     INTO THE SNOW<br>   AS I WALK THE PATH<br> <br> </br></br></br></br></br></p>,\n",
       " <p>BUT WHEN I   HALTED<br>     ON THE WINDY STREET<br>     AT TWILIGHT...<br>   SNOW STRUCK AGAINST ME<br> <br> </br></br></br></br></br></p>,\n",
       " <p>CALL HIM BACK!   AH NO,<br>     HE'S BLOWN FROM SIGHT<br>     ALREADY...<br>   FISH-PEDDLER IN THE SNOW<br> <br> </br></br></br></br></br></p>,\n",
       " <p>CROSSING IT ALONE<br>     IN COLD MOONLIGHT...<br>     THE BRITTLE BRIDGE<br>   ECHOES MY FOOTSTEPS<br> <br> </br></br></br></br></br></p>,\n",
       " <p>SUCH A LITTLE   CHILD<br>     TO SEND TO BE<br>     A PRIESTLING<br>   ICY POVERTY<br> <br> </br></br></br></br></br></p>,\n",
       " <p>WINDY WINTER   RAIN...<br>     MY SILLY BIG<br>     UMBRELLA<br>   TRIES WALKING BACKWARD<br> <br> </br></br></br></br></br></p>,\n",
       " <p>BUDDHA ON THE   HILL...<br>     FROM YOUR HOLY<br>     NOSE INDEED<br>   HANGS AN ICICLE<br> <br> </br></br></br></br></br></p>,\n",
       " <p>THIS SNOWY   MORNING<br>     THAT BLACK CROW<br>     I HATE SO MUCH...<br>   BUT HE'S BEAUTIFUL!<br> <br> </br></br></br></br></br></p>,\n",
       " <p>LOOK AT THE   CANDLE!<br>     WHAT A HUNGRY WIND<br>     IT IS...<br>   HUNTING IN THE SNOW!<br> <br> </br></br></br></br></br></p>,\n",
       " <p>IF THERE WERE   FRAGRANCE<br>     THESE HEAVY SNOW-<br>     FLAKES SETTLING...<br>   LILIES ON THE ROCKS<br> <br> </br></br></br></br></br></p>,\n",
       " <p>AH! I INTENDED<br>     NEVER NEVER<br>     TO GROW OLD ...<br>   LISTEN: NEW YEAR'S BELL!<br> <br> </br></br></br></br></br></p>,\n",
       " <p>SNOW-SWALLOWED   VALLEY:<br>     ONLY THE<br>     WINDING RIVER...<br>   BLACK FLUENT BRUSH-STROKE<br> <br> </br></br></br></br></br></p>,\n",
       " <p>ROARING WINTER   STORM<br>     RUSHING TO ITS<br>     UTTER END ...<br>   EVER-SOUNDING SEA<br> <br> </br></br></br></br></br></p>,\n",
       " <p>ELEVEN BRAVE   KNIGHTS<br>     CANTER THROUGH THE<br>     WHIRLING SNOW...<br>   NOT ONE BENDS HIS NECK<br> <br> </br></br></br></br></br></p>,\n",
       " <p>GOING   SNOW-VIEWING<br>     ONE BY ONE THE<br>     WALKERS VANISH...<br>   WHITELY FALLING VEILS<br> <br> </br></br></br></br></br></p>,\n",
       " <p>\"YES, COME   IN!\" I CRIED...<br>     BUT AT THE WINDY<br>     SNOW-HUNG GATE<br>   KNOCKING STILL WENT ON<br> <br> </br></br></br></br></br></p>,\n",
       " <p>SEE: SURVIVING   SUNS<br>     VISIT THE ANCESTRAL<br>     GRAVE ...<br>   BEARDED, WITH BENT CANES<br> <br> </br></br></br></br></br></p>,\n",
       " <p>THE ORPHAN   SPEAKS:<br>     THE YEAR-END PARTY...<br>     I AM EVEN ENVIOUS<br>   OF SCOLDED CHILDREN<br> <br> </br></br></br></br></br></p>,\n",
       " <p>I GAVE THE   GREETINGS<br>     OF THE BRIGHT<br>     NEW YEAR ... AS THOUGH<br>   I HELD A PLUM-BRANCH<br> <br> </br></br></br></br></br></p>,\n",
       " <p>ON JOLLY NEW   YEAR'S DAY<br>     MY LAST YEAR'S BILLS<br>     DROP IN<br>   TO PAY THEIR COMPLIMENTS<br> <br> </br></br></br></br></br></p>,\n",
       " <p>DEATH-SONG:<br>     LEAF ALONE, FLUTTERING<br>     ALAS, LEAF ALONE,<br>   FLUTTERING ...<br>   FLOATING DOWN THE WIND<br> <br> </br></br></br></br></br></br></p>,\n",
       " <p>DEATH-SONG:<br>     I HAVE KNOWN LOVERS...<br>     CHERRY-BLOOM ...<br>   THE NIGHTINGALE ...<br>   I WILL SLEEP CONTENT<br> <br> </br></br></br></br></br></br></p>,\n",
       " <p>DEATH-SONG:<br>     FEVER-FELLED HALF-WAY,<br>     MY DREAMS AROSE<br>   TO MARCH AGAIN...<br>   INTO A HOLLOW LAND<br> <br> </br></br></br></br></br></br></p>,\n",
       " <p>DEATH-SONG:<br>     THREE LOVELIEST THINGS:<br>     MOONLIGHT ... CHERRY-<br>   BLOOM ... NOW I GO<br>   SEEKING SILENT SNOW<br> <br> </br></br></br></br></br></br></p>]"
      ]
     },
     "execution_count": 132,
     "metadata": {},
     "output_type": "execute_result"
    }
   ],
   "source": [
    "j_haikus"
   ]
  },
  {
   "cell_type": "code",
   "execution_count": 156,
   "metadata": {
    "collapsed": false
   },
   "outputs": [],
   "source": [
    "# Contest Archive\n",
    "# http://www.thehaikufoundation.org/contest-archive-details/?IDsponsor=8\n",
    "BASE_URL = \"http://www.thehaikufoundation.org/contest-archive-details/?IDsponsor=8\"\n",
    "URL_SELECTOR = \"main.content li a\"\n",
    "page = urllib2.urlopen(BASE_URL).read()\n",
    "soup = BeautifulSoup(page, 'html.parser')\n",
    "URLS = [k.attrs['href'] for k in soup.select(URL_SELECTOR)]"
   ]
  },
  {
   "cell_type": "code",
   "execution_count": 157,
   "metadata": {
    "collapsed": false
   },
   "outputs": [
    {
     "data": {
      "text/plain": [
       "[u'http://www.thehaikufoundation.org/collection-haiku/?IDcat=325',\n",
       " u'http://www.thehaikufoundation.org/collection-haiku/?IDcat=314',\n",
       " u'http://www.thehaikufoundation.org/collection-haiku/?IDcat=279',\n",
       " u'http://www.thehaikufoundation.org/collection-haiku/?IDcat=252',\n",
       " u'http://www.thehaikufoundation.org/collection-haiku/?IDcat=222',\n",
       " u'http://www.thehaikufoundation.org/collection-haiku/?IDcat=94',\n",
       " u'http://www.thehaikufoundation.org/collection-haiku/?IDcat=93',\n",
       " u'http://www.thehaikufoundation.org/collection-haiku/?IDcat=92',\n",
       " u'http://www.thehaikufoundation.org/collection-haiku/?IDcat=91',\n",
       " u'http://www.thehaikufoundation.org/collection-haiku/?IDcat=90',\n",
       " u'http://www.thehaikufoundation.org/collection-haiku/?IDcat=89',\n",
       " u'http://www.thehaikufoundation.org/collection-haiku/?IDcat=88',\n",
       " u'http://www.thehaikufoundation.org/collection-haiku/?IDcat=87',\n",
       " u'http://www.thehaikufoundation.org/collection-haiku/?IDcat=86',\n",
       " u'http://www.thehaikufoundation.org/collection-haiku/?IDcat=85',\n",
       " u'http://www.thehaikufoundation.org/collection-haiku/?IDcat=97',\n",
       " u'http://www.thehaikufoundation.org/collection-haiku/?IDcat=96',\n",
       " u'http://www.thehaikufoundation.org/collection-haiku/?IDcat=95']"
      ]
     },
     "execution_count": 157,
     "metadata": {},
     "output_type": "execute_result"
    }
   ],
   "source": [
    "URLS"
   ]
  },
  {
   "cell_type": "code",
   "execution_count": 162,
   "metadata": {
    "collapsed": false
   },
   "outputs": [
    {
     "name": "stdout",
     "output_type": "stream",
     "text": [
      "11\n",
      "22\n",
      "33\n",
      "44\n",
      "55\n",
      "66\n",
      "77\n",
      "88\n",
      "99\n",
      "110\n",
      "122\n",
      "133\n",
      "144\n",
      "155\n",
      "166\n",
      "177\n",
      "188\n",
      "199\n"
     ]
    }
   ],
   "source": [
    "CSS_PATH = \"table pre\"\n",
    "c_haikus = []\n",
    "for URL in URLS:\n",
    "    page = urllib2.urlopen(URL).read()\n",
    "    soup = BeautifulSoup(page, 'html.parser')\n",
    "    c_haikus.extend(soup.select(CSS_PATH))\n",
    "    print len(c_haikus)"
   ]
  },
  {
   "cell_type": "code",
   "execution_count": 166,
   "metadata": {
    "collapsed": false
   },
   "outputs": [
    {
     "name": "stdout",
     "output_type": "stream",
     "text": [
      "18\n",
      "1\n",
      "19\n",
      "20\n",
      "45\n",
      "61\n",
      "126\n",
      "127\n",
      "134\n",
      "143\n",
      "149\n",
      "161\n",
      "174\n",
      "175\n",
      "175\n",
      "175\n",
      "176\n",
      "187\n",
      "190\n"
     ]
    }
   ],
   "source": [
    "BASE_URL = \"http://www.thehaikufoundation.org/contest-archive/\"\n",
    "URL_SELECTOR = \"div.entry-content li a\"\n",
    "page = urllib2.urlopen(BASE_URL).read()\n",
    "soup = BeautifulSoup(page, 'html.parser')\n",
    "URLS = []\n",
    "BASE_URLS = [k.attrs['href'] for k in soup.select(URL_SELECTOR)]\n",
    "print len(BASE_URLS)\n",
    "URL_SELECTOR = \"main.content li a\"\n",
    "for u in BASE_URLS:\n",
    "    page = urllib2.urlopen(u).read()\n",
    "    soup = BeautifulSoup(page, 'html.parser')\n",
    "    URLS.extend([k.attrs['href'] for k in soup.select(URL_SELECTOR)])\n",
    "    print len(URLS)"
   ]
  },
  {
   "cell_type": "code",
   "execution_count": 169,
   "metadata": {
    "collapsed": false
   },
   "outputs": [
    {
     "data": {
      "text/plain": [
       "[u'http://www.thehaikufoundation.org/collection-haiku/?IDcat=322',\n",
       " u'http://www.thehaikufoundation.org/collection-haiku/?IDcat=325',\n",
       " u'http://www.thehaikufoundation.org/collection-haiku/?IDcat=314',\n",
       " u'http://www.thehaikufoundation.org/collection-haiku/?IDcat=279',\n",
       " u'http://www.thehaikufoundation.org/collection-haiku/?IDcat=252',\n",
       " u'http://www.thehaikufoundation.org/collection-haiku/?IDcat=222',\n",
       " u'http://www.thehaikufoundation.org/collection-haiku/?IDcat=94',\n",
       " u'http://www.thehaikufoundation.org/collection-haiku/?IDcat=93',\n",
       " u'http://www.thehaikufoundation.org/collection-haiku/?IDcat=92',\n",
       " u'http://www.thehaikufoundation.org/collection-haiku/?IDcat=91']"
      ]
     },
     "execution_count": 169,
     "metadata": {},
     "output_type": "execute_result"
    }
   ],
   "source": [
    "URLS[:10]"
   ]
  },
  {
   "cell_type": "code",
   "execution_count": 171,
   "metadata": {
    "collapsed": false
   },
   "outputs": [
    {
     "name": "stdout",
     "output_type": "stream",
     "text": [
      "14 -> 25 -> 36 -> 47 -> 58 -> 69 -> 80 -> 91 -> 102 -> 113 -> 124 -> 136 -> 147 -> 158 -> 169 -> 180 -> 191 -> 202 -> 213 -> 222 -> 228 -> 234 -> 239 -> 244 -> 259 -> 270 -> 284 -> 297 -> 308 -> 322 -> 332 -> 340 -> 353 -> 367 -> 377 -> 387 -> 400 -> 410 -> 423 -> 435 -> 446 -> 458 -> 479 -> 491 -> 511 -> 520 -> 520 -> 530 -> 537 -> 547 -> 555 -> 564 -> 571 -> 578 -> 588 -> 598 -> 607 -> 613 -> 632 -> 639 -> 647 -> 650 -> 657 -> 663 -> 668 -> 675 -> 681 -> 688 -> 695 -> 702 -> 709 -> 718 -> 724 -> 729 -> 739 -> 748 -> 755 -> 762 -> 769 -> 777 -> 784 -> 791 -> 798 -> 801 -> 804 -> 813 -> 819 -> 824 -> 832 -> 838 -> 848 -> 854 -> 859 -> 864 -> 869 -> 878 -> 886 -> 891 -> 896 -> 903 -> 909 -> 916 -> 924 -> 931 -> 939 -> 946 -> 953 -> 960 -> 967 -> 970 -> 981 -> 989 -> 998 -> 1004 -> 1017 -> 1027 -> 1035 -> 1038 -> 1048 -> 1061 -> 1064 -> 1075 -> 1087 -> 1088 -> 1090 -> 1093 -> 1103 -> 1114 -> 1124 -> 1135 -> 1145 -> 1155 -> 1165 -> 1173 -> 1176 -> 1193 -> 1207 -> 1222 -> 1237 -> 1252 -> 1266 -> 1280 -> 1293 -> 1308 -> 1318 -> 1324 -> 1329 -> 1331 -> 1333 -> 1339 -> 1344 -> 1351 -> 1358 -> 1366 -> 1374 -> 1382 -> 1390 -> 1398 -> 1404 -> 1410 -> 1418 -> 1421 -> 1424 -> 1427 -> 1430 -> 1433 -> 1439 -> 1445 -> 1452 -> 1463 -> 1477 -> 1486 -> 1495 -> 1505 -> 1505 -> 1509 -> 1515 -> 1522 -> 1529 -> 1538 -> 1544 -> 1550 -> 1556 -> 1561 -> 1568 -> 1574 -> 1574 -> 1587 -> 1598 -> 1613 ->\n"
     ]
    }
   ],
   "source": [
    "CSS_PATH = \"table pre\"\n",
    "c_haikus = []\n",
    "for URL in URLS:\n",
    "    page = urllib2.urlopen(URL).read()\n",
    "    soup = BeautifulSoup(page, 'html.parser')\n",
    "    c_haikus.extend(soup.select(CSS_PATH))\n",
    "    print len(c_haikus), \"->\", "
   ]
  },
  {
   "cell_type": "code",
   "execution_count": 172,
   "metadata": {
    "collapsed": false
   },
   "outputs": [
    {
     "data": {
      "text/plain": [
       "[<pre style=\"font-family: Arial, Helvetica, sans-serif; \">Driftwood beach wondering if it's too late to put down roots</pre>,\n",
       " <pre style=\"font-family: Arial, Helvetica, sans-serif; \">Caressed by sea air\n",
       " oranges swell with the sight\n",
       " of Gogoshima</pre>,\n",
       " <pre style=\"font-family: Arial, Helvetica, sans-serif; \">menage a trois\n",
       " on a citrus tree\n",
       " summer dreams</pre>,\n",
       " <pre style=\"font-family: Arial, Helvetica, sans-serif; \">orange blossoms --\n",
       " on the piano lid\n",
       " a sky full of stars</pre>,\n",
       " <pre style=\"font-family: Arial, Helvetica, sans-serif; \">cycle-weary\n",
       " a yen\n",
       " for the ferryman</pre>,\n",
       " <pre style=\"font-family: Arial, Helvetica, sans-serif; \">spring pedaling\n",
       " on the marine road\n",
       " through the islands</pre>,\n",
       " <pre style=\"font-family: Arial, Helvetica, sans-serif; \">the wake\n",
       " of an upstream eel\n",
       " in dawn's light</pre>,\n",
       " <pre style=\"font-family: Arial, Helvetica, sans-serif; \">marina --\n",
       " I cast anchor\n",
       " near the moon</pre>,\n",
       " <pre style=\"font-family: Arial, Helvetica, sans-serif; \">Matsuyama bay\n",
       " ancestors come and go\n",
       " with the tide</pre>,\n",
       " <pre style=\"font-family: Arial, Helvetica, sans-serif; \">after the storm\n",
       " whose life will go on\n",
       " nobody knows</pre>]"
      ]
     },
     "execution_count": 172,
     "metadata": {},
     "output_type": "execute_result"
    }
   ],
   "source": [
    "c_haikus[:10]"
   ]
  },
  {
   "cell_type": "code",
   "execution_count": 182,
   "metadata": {
    "collapsed": false
   },
   "outputs": [
    {
     "data": {
      "text/plain": [
       "[u'driftwood:', u'the way an old dog', u'settles his chin on your knee']"
      ]
     },
     "execution_count": 182,
     "metadata": {},
     "output_type": "execute_result"
    }
   ],
   "source": [
    "c_haikus[10].text.strip().lower().splitlines()"
   ]
  },
  {
   "cell_type": "markdown",
   "metadata": {},
   "source": [
    "### TODO\n",
    "* Collect more data from: http://www.dijitari.com/xvii/categories/all_vdesc_1.html"
   ]
  },
  {
   "cell_type": "code",
   "execution_count": 210,
   "metadata": {
    "collapsed": false
   },
   "outputs": [],
   "source": [
    "BASE_URL = \"http://www.dijitari.com/xvii/categories/all_vdesc_1.html\"\n",
    "page = urllib2.urlopen(BASE_URL).read()\n",
    "soup = BeautifulSoup(page, 'html.parser')"
   ]
  },
  {
   "cell_type": "code",
   "execution_count": 220,
   "metadata": {
    "collapsed": false
   },
   "outputs": [
    {
     "name": "stdout",
     "output_type": "stream",
     "text": [
      "71\n",
      "[u'/xvii/cgi-bin/xvii_auth.pl?id=25', u'/xvii/cgi-bin/xvii_vote.pl?id=68', u'/xvii/cgi-bin/xvii_auth.pl?id=1', u'/xvii/cgi-bin/xvii_vote.pl?id=213', u'/xvii/cgi-bin/xvii_auth.pl?id=17', u'/xvii/cgi-bin/xvii_vote.pl?id=113', u'/xvii/cgi-bin/xvii_auth.pl?id=1', u'/xvii/cgi-bin/xvii_vote.pl?id=64', u'/xvii/cgi-bin/xvii_vote.pl?id=78', u'/xvii/cgi-bin/xvii_auth.pl?id=34', u'/xvii/cgi-bin/xvii_vote.pl?id=190', u'/xvii/cgi-bin/xvii_auth.pl?id=43', u'/xvii/cgi-bin/xvii_vote.pl?id=259', u'/xvii/cgi-bin/xvii_auth.pl?id=17', u'/xvii/cgi-bin/xvii_vote.pl?id=114', u'/xvii/cgi-bin/xvii_auth.pl?id=32', u'/xvii/cgi-bin/xvii_vote.pl?id=154', u'/xvii/cgi-bin/xvii_auth.pl?id=26', u'/xvii/cgi-bin/xvii_vote.pl?id=138', u'/xvii/cgi-bin/xvii_auth.pl?id=1', u'/xvii/cgi-bin/xvii_vote.pl?id=165', u'/xvii/cgi-bin/xvii_vote.pl?id=66', u'/xvii/cgi-bin/xvii_auth.pl?id=1', u'/xvii/cgi-bin/xvii_vote.pl?id=97', u'/xvii/cgi-bin/xvii_auth.pl?id=43', u'/xvii/cgi-bin/xvii_vote.pl?id=255', u'/xvii/cgi-bin/xvii_vote.pl?id=67', u'/xvii/cgi-bin/xvii_auth.pl?id=27', u'/xvii/cgi-bin/xvii_vote.pl?id=135', u'/xvii/cgi-bin/xvii_auth.pl?id=17', u'/xvii/cgi-bin/xvii_vote.pl?id=115', u'/xvii/cgi-bin/xvii_auth.pl?id=17', u'/xvii/cgi-bin/xvii_vote.pl?id=116', u'all_vdesc_2.html', u'all_vdesc_3.html', u'all_vdesc_4.html', u'all_vdesc_5.html', u'all_vdesc_6.html', u'all_vdesc_7.html', u'all_vdesc_8.html', u'all_vdesc_9.html', u'all_vdesc_10.html', u'all_vdesc_11.html', u'all_vdesc_12.html', u'all_vdesc_13.html', u'all_vdesc_14.html', u'all_vdesc_15.html', u'all_vdesc_16.html', u'all_vdesc_17.html', u'all_vdesc_18.html', u'all_vdesc_19.html', u'all_vdesc_20.html', u'all_vdesc_21.html', u'all_vdesc_22.html', u'all_vdesc_23.html', u'all_vdesc_24.html', u'all_vdesc_25.html', u'all_vdesc_26.html', u'all_vdesc_27.html', u'all_vdesc_28.html', u'all_vdesc_29.html', u'all_vdesc_30.html', u'all_vdesc_31.html', u'all_vdesc_32.html', u'all_vdesc_33.html', u'all_vdesc_34.html', u'all_vdesc_2.html', u'all_vdesc_34.html', u'/xvii', u'/', u'/xvii/contact.shtml']\n",
      "[u'http://www.dijitari.com/xvii/categories/all_vdesc_1.html', u'http://www.dijitari.com/xvii/categories/all_vdesc_2.html', u'http://www.dijitari.com/xvii/categories/all_vdesc_3.html', u'http://www.dijitari.com/xvii/categories/all_vdesc_4.html', u'http://www.dijitari.com/xvii/categories/all_vdesc_5.html', u'http://www.dijitari.com/xvii/categories/all_vdesc_6.html', u'http://www.dijitari.com/xvii/categories/all_vdesc_7.html', u'http://www.dijitari.com/xvii/categories/all_vdesc_8.html', u'http://www.dijitari.com/xvii/categories/all_vdesc_9.html', u'http://www.dijitari.com/xvii/categories/all_vdesc_10.html', u'http://www.dijitari.com/xvii/categories/all_vdesc_11.html', u'http://www.dijitari.com/xvii/categories/all_vdesc_12.html', u'http://www.dijitari.com/xvii/categories/all_vdesc_13.html', u'http://www.dijitari.com/xvii/categories/all_vdesc_14.html', u'http://www.dijitari.com/xvii/categories/all_vdesc_15.html', u'http://www.dijitari.com/xvii/categories/all_vdesc_16.html', u'http://www.dijitari.com/xvii/categories/all_vdesc_17.html', u'http://www.dijitari.com/xvii/categories/all_vdesc_18.html', u'http://www.dijitari.com/xvii/categories/all_vdesc_19.html', u'http://www.dijitari.com/xvii/categories/all_vdesc_20.html', u'http://www.dijitari.com/xvii/categories/all_vdesc_21.html', u'http://www.dijitari.com/xvii/categories/all_vdesc_22.html', u'http://www.dijitari.com/xvii/categories/all_vdesc_23.html', u'http://www.dijitari.com/xvii/categories/all_vdesc_24.html', u'http://www.dijitari.com/xvii/categories/all_vdesc_25.html', u'http://www.dijitari.com/xvii/categories/all_vdesc_26.html', u'http://www.dijitari.com/xvii/categories/all_vdesc_27.html', u'http://www.dijitari.com/xvii/categories/all_vdesc_28.html', u'http://www.dijitari.com/xvii/categories/all_vdesc_29.html', u'http://www.dijitari.com/xvii/categories/all_vdesc_30.html', u'http://www.dijitari.com/xvii/categories/all_vdesc_31.html', u'http://www.dijitari.com/xvii/categories/all_vdesc_32.html', u'http://www.dijitari.com/xvii/categories/all_vdesc_33.html', u'http://www.dijitari.com/xvii/categories/all_vdesc_34.html']\n"
     ]
    }
   ],
   "source": [
    "URL_SELECTOR = \"table > tr > td > font p a\"\n",
    "BASE_URLS = [k.attrs['href'] for k in soup.select(URL_SELECTOR)]\n",
    "print len(BASE_URLS)\n",
    "print BASE_URLS\n",
    "BASE_URLS = [u'all_vdesc_1.html', u'all_vdesc_2.html', u'all_vdesc_3.html', u'all_vdesc_4.html',\n",
    "             u'all_vdesc_5.html', u'all_vdesc_6.html', u'all_vdesc_7.html', u'all_vdesc_8.html',\n",
    "             u'all_vdesc_9.html', u'all_vdesc_10.html', u'all_vdesc_11.html', u'all_vdesc_12.html',\n",
    "             u'all_vdesc_13.html', u'all_vdesc_14.html', u'all_vdesc_15.html', u'all_vdesc_16.html',\n",
    "             u'all_vdesc_17.html', u'all_vdesc_18.html', u'all_vdesc_19.html', u'all_vdesc_20.html',\n",
    "             u'all_vdesc_21.html', u'all_vdesc_22.html', u'all_vdesc_23.html', u'all_vdesc_24.html',\n",
    "             u'all_vdesc_25.html', u'all_vdesc_26.html', u'all_vdesc_27.html', u'all_vdesc_28.html',\n",
    "             u'all_vdesc_29.html', u'all_vdesc_30.html', u'all_vdesc_31.html', u'all_vdesc_32.html',\n",
    "             u'all_vdesc_33.html', u'all_vdesc_34.html']\n",
    "BASE_URL = \"http://www.dijitari.com/xvii/categories/\"\n",
    "BASE_URLS = [BASE_URL + k for k in BASE_URLS]\n",
    "print BASE_URLS"
   ]
  },
  {
   "cell_type": "code",
   "execution_count": 239,
   "metadata": {
    "collapsed": false
   },
   "outputs": [
    {
     "name": "stdout",
     "output_type": "stream",
     "text": [
      "18 -> 36 -> 54 -> 72 -> 90 -> 108 -> 126 -> 144 -> 162 -> 180 -> 198 -> 216 -> 234 -> 252 -> 270 -> 288 -> 306 -> 324 -> 342 -> 360 -> 378 -> 396 -> 414 -> 432 -> 450 -> 468 -> 486 -> 504 -> 522 -> 540 -> 558 -> 576 -> 594 -> 598 ->\n"
     ]
    }
   ],
   "source": [
    "CSS_PATH = \"p table > tr > td > font > font\"\n",
    "URLS = BASE_URLS\n",
    "x_haikus = []\n",
    "for URL in URLS:\n",
    "    page = urllib2.urlopen(URL).read()\n",
    "    soup = BeautifulSoup(page, 'html.parser')\n",
    "    x_haikus.extend(soup.select(CSS_PATH))\n",
    "    print len(x_haikus), \"->\", "
   ]
  },
  {
   "cell_type": "code",
   "execution_count": 228,
   "metadata": {
    "collapsed": false
   },
   "outputs": [],
   "source": [
    "CSS_PATH = \"p table > tr > td > font > font\"\n",
    "x_haikus = soup.select(CSS_PATH)"
   ]
  },
  {
   "cell_type": "code",
   "execution_count": 236,
   "metadata": {
    "collapsed": false
   },
   "outputs": [
    {
     "data": {
      "text/plain": [
       "[u'An old pond!', u'A frog jumps in-', u'The sound of water. ']"
      ]
     },
     "execution_count": 236,
     "metadata": {},
     "output_type": "execute_result"
    }
   ],
   "source": [
    "x_haikus[0].text.split(\"--\")[0].replace(u'\\xa0', ' ').splitlines()"
   ]
  },
  {
   "cell_type": "code",
   "execution_count": 241,
   "metadata": {
    "collapsed": false
   },
   "outputs": [
    {
     "name": "stdout",
     "output_type": "stream",
     "text": [
      "598\n"
     ]
    },
    {
     "data": {
      "text/html": [
       "<div style=\"max-height:1000px;max-width:1500px;overflow:auto;\">\n",
       "<table border=\"1\" class=\"dataframe\">\n",
       "  <thead>\n",
       "    <tr style=\"text-align: right;\">\n",
       "      <th></th>\n",
       "      <th>text</th>\n",
       "    </tr>\n",
       "  </thead>\n",
       "  <tbody>\n",
       "    <tr>\n",
       "      <th>0</th>\n",
       "      <td> an old pond!\\ta frog jumps in-\\tthe sound of w...</td>\n",
       "    </tr>\n",
       "    <tr>\n",
       "      <th>1</th>\n",
       "      <td> a beautiful weed\\tsprouting in the summer sun....</td>\n",
       "    </tr>\n",
       "    <tr>\n",
       "      <th>2</th>\n",
       "      <td> great japan!\\twhere a bird sings\\tthe lotus sutra</td>\n",
       "    </tr>\n",
       "    <tr>\n",
       "      <th>3</th>\n",
       "      <td> it's 4:10 am\\ti can't think straight, and much...</td>\n",
       "    </tr>\n",
       "    <tr>\n",
       "      <th>4</th>\n",
       "      <td> bust out pda...\\twhat do i see on the screen?\\...</td>\n",
       "    </tr>\n",
       "  </tbody>\n",
       "</table>\n",
       "</div>"
      ],
      "text/plain": [
       "                                                text\n",
       "0  an old pond!\\ta frog jumps in-\\tthe sound of w...\n",
       "1  a beautiful weed\\tsprouting in the summer sun....\n",
       "2  great japan!\\twhere a bird sings\\tthe lotus sutra\n",
       "3  it's 4:10 am\\ti can't think straight, and much...\n",
       "4  bust out pda...\\twhat do i see on the screen?\\..."
      ]
     },
     "execution_count": 241,
     "metadata": {},
     "output_type": "execute_result"
    }
   ],
   "source": [
    "\"\"\"\n",
    "data = []\n",
    "for k in haikus + j_haikus + c_haikus:\n",
    "    k = k.text.lower().strip()\n",
    "    if k is None:\n",
    "        continue\n",
    "    l = \"\\t\".join(l.strip() for l in k.splitlines() if l is not None)\n",
    "    data.append(l)\n",
    "print len(data)\n",
    "data = pd.DataFrame(data, columns=[\"text\"])\n",
    "\"\"\"\n",
    "\n",
    "data_x = []\n",
    "for k in x_haikus:\n",
    "    k = k.text.split(\"--\")[0].replace(u'\\xa0', ' ').lower().strip()\n",
    "    if k is None:\n",
    "        continue\n",
    "    l = \"\\t\".join(l.strip() for l in k.splitlines() if l is not None)\n",
    "    data_x.append(l)\n",
    "print len(data_x)\n",
    "data_x = pd.DataFrame(data_x, columns=[\"text\"])\n",
    "data_x.head()"
   ]
  },
  {
   "cell_type": "code",
   "execution_count": 243,
   "metadata": {
    "collapsed": false
   },
   "outputs": [
    {
     "name": "stdout",
     "output_type": "stream",
     "text": [
      "data_x 38939\n",
      "data 136300\n"
     ]
    }
   ],
   "source": [
    "print \"data_x\", data_x.text.apply(lambda x: len(x)).sum()\n",
    "print \"data\", data.text.apply(lambda x: len(x)).sum()"
   ]
  },
  {
   "cell_type": "code",
   "execution_count": 249,
   "metadata": {
    "collapsed": false
   },
   "outputs": [
    {
     "name": "stdout",
     "output_type": "stream",
     "text": [
      "(3122, 1) (2524, 1) (598, 1)\n"
     ]
    }
   ],
   "source": [
    "data_all = data.append(data_x)\n",
    "print data_all.shape, data.shape, data_x.shape"
   ]
  },
  {
   "cell_type": "code",
   "execution_count": 250,
   "metadata": {
    "collapsed": false
   },
   "outputs": [
    {
     "data": {
      "text/html": [
       "<div style=\"max-height:1000px;max-width:1500px;overflow:auto;\">\n",
       "<table border=\"1\" class=\"dataframe\">\n",
       "  <thead>\n",
       "    <tr style=\"text-align: right;\">\n",
       "      <th></th>\n",
       "      <th>text</th>\n",
       "    </tr>\n",
       "  </thead>\n",
       "  <tbody>\n",
       "    <tr>\n",
       "      <th>0</th>\n",
       "      <td> county fair\\tsecond place ribbon\\tin an empty ...</td>\n",
       "    </tr>\n",
       "    <tr>\n",
       "      <th>1</th>\n",
       "      <td>       junk car\\tthe hum of bees\\tbeneath the hood</td>\n",
       "    </tr>\n",
       "    <tr>\n",
       "      <th>2</th>\n",
       "      <td> the christmas\\tafter we told them\\tartificial ...</td>\n",
       "    </tr>\n",
       "    <tr>\n",
       "      <th>3</th>\n",
       "      <td> a bit of rust\\ton the chevy's fender\\tharvest ...</td>\n",
       "    </tr>\n",
       "    <tr>\n",
       "      <th>4</th>\n",
       "      <td>              a lightning strike gives up a flower</td>\n",
       "    </tr>\n",
       "  </tbody>\n",
       "</table>\n",
       "</div>"
      ],
      "text/plain": [
       "                                                text\n",
       "0  county fair\\tsecond place ribbon\\tin an empty ...\n",
       "1        junk car\\tthe hum of bees\\tbeneath the hood\n",
       "2  the christmas\\tafter we told them\\tartificial ...\n",
       "3  a bit of rust\\ton the chevy's fender\\tharvest ...\n",
       "4               a lightning strike gives up a flower"
      ]
     },
     "execution_count": 250,
     "metadata": {},
     "output_type": "execute_result"
    }
   ],
   "source": [
    "data_all.head()"
   ]
  },
  {
   "cell_type": "code",
   "execution_count": 251,
   "metadata": {
    "collapsed": true
   },
   "outputs": [],
   "source": [
    "with open(\"haiku_all.txt\", \"wb+\") as fp:\n",
    "    for k in data_all.values:\n",
    "        print >> fp, k[0].encode('ascii', 'ignore')"
   ]
  },
  {
   "cell_type": "code",
   "execution_count": 252,
   "metadata": {
    "collapsed": false
   },
   "outputs": [
    {
     "data": {
      "text/plain": [
       "<matplotlib.axes._subplots.AxesSubplot at 0x7f78bc6c57d0>"
      ]
     },
     "execution_count": 252,
     "metadata": {},
     "output_type": "execute_result"
    },
    {
     "data": {
      "image/png": "[encoded data removed]",
      "text/plain": [
       "<matplotlib.figure.Figure at 0x7f78bc6c5490>"
      ]
     },
     "metadata": {},
     "output_type": "display_data"
    }
   ],
   "source": [
    "data_all.text.apply(lambda x: len(x)).hist()"
   ]
  },
  {
   "cell_type": "code",
   "execution_count": 260,
   "metadata": {
    "collapsed": false
   },
   "outputs": [
    {
     "data": {
      "text/plain": [
       "u'death-song:     three loveliest things:     moonlight ... cherry-   bloom ... now i go   seeking silent snow'"
      ]
     },
     "execution_count": 260,
     "metadata": {},
     "output_type": "execute_result"
    }
   ],
   "source": [
    "data_all.text[data_all.text.apply(lambda x: len(x)) > 100].values[8].replace(u'\\xa0', ' ')"
   ]
  },
  {
   "cell_type": "code",
   "execution_count": null,
   "metadata": {
    "collapsed": true
   },
   "outputs": [],
   "source": []
  }
 ],
 "metadata": {
  "kernelspec": {
   "display_name": "Python 2",
   "language": "python",
   "name": "python2"
  },
  "language_info": {
   "codemirror_mode": {
    "name": "ipython",
    "version": 2
   },
   "file_extension": ".py",
   "mimetype": "text/x-python",
   "name": "python",
   "nbconvert_exporter": "python",
   "pygments_lexer": "ipython2",
   "version": "2.7.6"
  }
 },
 "nbformat": 4,
 "nbformat_minor": 0
}
